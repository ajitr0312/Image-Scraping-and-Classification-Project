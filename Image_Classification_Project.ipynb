{
 "cells": [
  {
   "cell_type": "markdown",
   "metadata": {},
   "source": [
    "## <center>Image Classification Project</center>\n",
    "\n",
    "Images are one of the major sources of data in the field of data science and AI. This field is making appropriate use of information that can be gathered through images by examining its features and details. We are trying to give you an exposure of how an end to end project is developed in this field. \n",
    "The idea behind this project is to build a deep learning-based Image Classification model on images that will be scraped from e-commerce portal. This is done to make the model more and more robust.\n",
    "\n",
    "<b>This task is divided into two phases: Data Collection and Mode Building.</b>"
   ]
  },
  {
   "cell_type": "markdown",
   "metadata": {},
   "source": [
    "#### Importing the required libraries:"
   ]
  },
  {
   "cell_type": "code",
   "execution_count": 1,
   "metadata": {},
   "outputs": [
    {
     "name": "stdout",
     "output_type": "stream",
     "text": [
      "2.6.0\n"
     ]
    }
   ],
   "source": [
    "import tensorflow as tf\n",
    "print(tf.__version__)"
   ]
  },
  {
   "cell_type": "code",
   "execution_count": 2,
   "metadata": {},
   "outputs": [],
   "source": [
    "import pandas as pd\n",
    "import seaborn as sns\n",
    "import os\n",
    "from skimage.io import imread\n",
    "from skimage.transform import resize\n",
    "import matplotlib.pyplot as plt\n",
    "%matplotlib inline\n",
    "from tensorflow.keras.layers import Input, Lambda, Dense, Flatten\n",
    "from tensorflow.keras.models import Model\n",
    "from tensorflow.keras.applications.vgg16 import VGG16\n",
    "from tensorflow.keras.preprocessing import image\n",
    "from tensorflow.keras.preprocessing.image import ImageDataGenerator,load_img\n",
    "from tensorflow.keras.models import Sequential\n",
    "import numpy as np\n",
    "from glob import glob"
   ]
  },
  {
   "cell_type": "code",
   "execution_count": 3,
   "metadata": {},
   "outputs": [],
   "source": [
    "# re-size all the images to this\n",
    "img_size = [224, 224]\n",
    "\n",
    "train_path = 'E:/Flip Robo/Project - 8 - Image Scraping and Classification Project/Images data/train'\n",
    "valid_path = 'E:/Flip Robo/Project - 8 - Image Scraping and Classification Project/Images data/test'"
   ]
  },
  {
   "cell_type": "code",
   "execution_count": 6,
   "metadata": {},
   "outputs": [],
   "source": [
    "# useful for getting number of output classes\n",
    "folders = glob('E:/Flip Robo/Project - 8 - Image Scraping and Classification Project/Images data/train/*')"
   ]
  },
  {
   "cell_type": "code",
   "execution_count": 7,
   "metadata": {},
   "outputs": [
    {
     "data": {
      "text/plain": [
       "['E:/Flip Robo/Project - 8 - Image Scraping and Classification Project/Images data/train\\\\Jeans(Men)',\n",
       " 'E:/Flip Robo/Project - 8 - Image Scraping and Classification Project/Images data/train\\\\Saree(Women)',\n",
       " 'E:/Flip Robo/Project - 8 - Image Scraping and Classification Project/Images data/train\\\\Trouser(Men)']"
      ]
     },
     "execution_count": 7,
     "metadata": {},
     "output_type": "execute_result"
    }
   ],
   "source": [
    "# checking for the image folders\n",
    "folders"
   ]
  },
  {
   "cell_type": "code",
   "execution_count": 8,
   "metadata": {},
   "outputs": [
    {
     "data": {
      "text/plain": [
       "3"
      ]
     },
     "execution_count": 8,
     "metadata": {},
     "output_type": "execute_result"
    }
   ],
   "source": [
    "len(folders)"
   ]
  },
  {
   "cell_type": "markdown",
   "metadata": {},
   "source": [
    "#### 1. VGG16"
   ]
  },
  {
   "cell_type": "code",
   "execution_count": 4,
   "metadata": {},
   "outputs": [],
   "source": [
    "# Import the VGG16 library as shown below and add preprocessing layer to the front of VGG\n",
    "# Here we will be using imagenet weights\n",
    "\n",
    "vgg16 = VGG16(input_shape=img_size + [3], weights='imagenet', include_top=False)"
   ]
  },
  {
   "cell_type": "code",
   "execution_count": 5,
   "metadata": {},
   "outputs": [],
   "source": [
    "# don't train existing weights\n",
    "for layer in vgg16.layers:\n",
    "    layer.trainable = False"
   ]
  },
  {
   "cell_type": "code",
   "execution_count": 9,
   "metadata": {},
   "outputs": [],
   "source": [
    "# our layers\n",
    "x = Flatten()(vgg16.output)"
   ]
  },
  {
   "cell_type": "code",
   "execution_count": 10,
   "metadata": {},
   "outputs": [],
   "source": [
    "prediction = Dense(len(folders), activation='softmax')(x)\n",
    "\n",
    "# create a model object\n",
    "model = Model(inputs=vgg16.input, outputs=prediction)"
   ]
  },
  {
   "cell_type": "code",
   "execution_count": 11,
   "metadata": {},
   "outputs": [
    {
     "name": "stdout",
     "output_type": "stream",
     "text": [
      "Model: \"model\"\n",
      "_________________________________________________________________\n",
      "Layer (type)                 Output Shape              Param #   \n",
      "=================================================================\n",
      "input_1 (InputLayer)         [(None, 224, 224, 3)]     0         \n",
      "_________________________________________________________________\n",
      "block1_conv1 (Conv2D)        (None, 224, 224, 64)      1792      \n",
      "_________________________________________________________________\n",
      "block1_conv2 (Conv2D)        (None, 224, 224, 64)      36928     \n",
      "_________________________________________________________________\n",
      "block1_pool (MaxPooling2D)   (None, 112, 112, 64)      0         \n",
      "_________________________________________________________________\n",
      "block2_conv1 (Conv2D)        (None, 112, 112, 128)     73856     \n",
      "_________________________________________________________________\n",
      "block2_conv2 (Conv2D)        (None, 112, 112, 128)     147584    \n",
      "_________________________________________________________________\n",
      "block2_pool (MaxPooling2D)   (None, 56, 56, 128)       0         \n",
      "_________________________________________________________________\n",
      "block3_conv1 (Conv2D)        (None, 56, 56, 256)       295168    \n",
      "_________________________________________________________________\n",
      "block3_conv2 (Conv2D)        (None, 56, 56, 256)       590080    \n",
      "_________________________________________________________________\n",
      "block3_conv3 (Conv2D)        (None, 56, 56, 256)       590080    \n",
      "_________________________________________________________________\n",
      "block3_pool (MaxPooling2D)   (None, 28, 28, 256)       0         \n",
      "_________________________________________________________________\n",
      "block4_conv1 (Conv2D)        (None, 28, 28, 512)       1180160   \n",
      "_________________________________________________________________\n",
      "block4_conv2 (Conv2D)        (None, 28, 28, 512)       2359808   \n",
      "_________________________________________________________________\n",
      "block4_conv3 (Conv2D)        (None, 28, 28, 512)       2359808   \n",
      "_________________________________________________________________\n",
      "block4_pool (MaxPooling2D)   (None, 14, 14, 512)       0         \n",
      "_________________________________________________________________\n",
      "block5_conv1 (Conv2D)        (None, 14, 14, 512)       2359808   \n",
      "_________________________________________________________________\n",
      "block5_conv2 (Conv2D)        (None, 14, 14, 512)       2359808   \n",
      "_________________________________________________________________\n",
      "block5_conv3 (Conv2D)        (None, 14, 14, 512)       2359808   \n",
      "_________________________________________________________________\n",
      "block5_pool (MaxPooling2D)   (None, 7, 7, 512)         0         \n",
      "_________________________________________________________________\n",
      "flatten (Flatten)            (None, 25088)             0         \n",
      "_________________________________________________________________\n",
      "dense (Dense)                (None, 3)                 75267     \n",
      "=================================================================\n",
      "Total params: 14,789,955\n",
      "Trainable params: 75,267\n",
      "Non-trainable params: 14,714,688\n",
      "_________________________________________________________________\n"
     ]
    }
   ],
   "source": [
    "# view the structure of the model\n",
    "model.summary()"
   ]
  },
  {
   "cell_type": "code",
   "execution_count": 12,
   "metadata": {},
   "outputs": [],
   "source": [
    "# tell the model what cost and optimization method to use\n",
    "model.compile(\n",
    "  loss='categorical_crossentropy',\n",
    "  optimizer='adam',\n",
    "  metrics=['accuracy'])"
   ]
  },
  {
   "cell_type": "code",
   "execution_count": 13,
   "metadata": {},
   "outputs": [],
   "source": [
    "# Use the Image Data Generator to import the images from the dataset\n",
    "from tensorflow.keras.preprocessing.image import ImageDataGenerator\n",
    "\n",
    "train_datagen = ImageDataGenerator(rescale = 1./255,\n",
    "                                   shear_range = 0.2,\n",
    "                                   zoom_range = 0.2,\n",
    "                                   horizontal_flip = True)\n",
    "\n",
    "test_datagen = ImageDataGenerator(rescale = 1./255)"
   ]
  },
  {
   "cell_type": "code",
   "execution_count": 14,
   "metadata": {},
   "outputs": [
    {
     "name": "stdout",
     "output_type": "stream",
     "text": [
      "Found 620 images belonging to 3 classes.\n"
     ]
    }
   ],
   "source": [
    "# Provide the same target size as initialied for the image size\n",
    "training_set = train_datagen.flow_from_directory('E:/Flip Robo/Project - 8 - Image Scraping and Classification Project/Images data/train',\n",
    "                                                 target_size = (224, 224),\n",
    "                                                 batch_size = 20,\n",
    "                                                 class_mode = 'categorical')"
   ]
  },
  {
   "cell_type": "code",
   "execution_count": 15,
   "metadata": {},
   "outputs": [
    {
     "name": "stdout",
     "output_type": "stream",
     "text": [
      "Found 99 images belonging to 3 classes.\n"
     ]
    }
   ],
   "source": [
    "test_set = test_datagen.flow_from_directory('E:/Flip Robo/Project - 8 - Image Scraping and Classification Project/Images data/test',\n",
    "                                            target_size = (224, 224),\n",
    "                                            batch_size = 20,\n",
    "                                            class_mode = 'categorical')"
   ]
  },
  {
   "cell_type": "code",
   "execution_count": 17,
   "metadata": {},
   "outputs": [
    {
     "name": "stderr",
     "output_type": "stream",
     "text": [
      "C:\\Users\\Ajitesh\\anaconda3\\lib\\site-packages\\keras\\engine\\training.py:1972: UserWarning: `Model.fit_generator` is deprecated and will be removed in a future version. Please use `Model.fit`, which supports generators.\n",
      "  warnings.warn('`Model.fit_generator` is deprecated and '\n"
     ]
    },
    {
     "name": "stdout",
     "output_type": "stream",
     "text": [
      "Epoch 1/20\n",
      "31/31 [==============================] - 297s 9s/step - loss: 0.3886 - accuracy: 0.8290 - val_loss: 0.1264 - val_accuracy: 0.9394\n",
      "Epoch 2/20\n",
      "31/31 [==============================] - 415s 14s/step - loss: 0.1092 - accuracy: 0.9613 - val_loss: 0.0658 - val_accuracy: 0.9798\n",
      "Epoch 3/20\n",
      "31/31 [==============================] - 503s 16s/step - loss: 0.0838 - accuracy: 0.9677 - val_loss: 0.0273 - val_accuracy: 1.0000\n",
      "Epoch 4/20\n",
      "31/31 [==============================] - 422s 14s/step - loss: 0.0347 - accuracy: 0.9952 - val_loss: 0.0143 - val_accuracy: 1.0000\n",
      "Epoch 5/20\n",
      "31/31 [==============================] - 576s 19s/step - loss: 0.0267 - accuracy: 0.9968 - val_loss: 0.0127 - val_accuracy: 1.0000\n",
      "Epoch 6/20\n",
      "31/31 [==============================] - 633s 20s/step - loss: 0.0243 - accuracy: 0.9968 - val_loss: 0.0092 - val_accuracy: 1.0000\n",
      "Epoch 7/20\n",
      "31/31 [==============================] - 445s 15s/step - loss: 0.0230 - accuracy: 0.9968 - val_loss: 0.0071 - val_accuracy: 1.0000\n",
      "Epoch 8/20\n",
      "31/31 [==============================] - 396s 13s/step - loss: 0.0123 - accuracy: 1.0000 - val_loss: 0.0079 - val_accuracy: 1.0000\n",
      "Epoch 9/20\n",
      "31/31 [==============================] - 398s 13s/step - loss: 0.0131 - accuracy: 1.0000 - val_loss: 0.0067 - val_accuracy: 1.0000\n",
      "Epoch 10/20\n",
      "31/31 [==============================] - 382s 12s/step - loss: 0.0108 - accuracy: 0.9984 - val_loss: 0.0090 - val_accuracy: 1.0000\n",
      "Epoch 11/20\n",
      "31/31 [==============================] - 443s 14s/step - loss: 0.0104 - accuracy: 1.0000 - val_loss: 0.0040 - val_accuracy: 1.0000\n",
      "Epoch 12/20\n",
      "31/31 [==============================] - 398s 13s/step - loss: 0.0068 - accuracy: 1.0000 - val_loss: 0.0031 - val_accuracy: 1.0000\n",
      "Epoch 13/20\n",
      "31/31 [==============================] - 391s 13s/step - loss: 0.0096 - accuracy: 0.9984 - val_loss: 0.0035 - val_accuracy: 1.0000\n",
      "Epoch 14/20\n",
      "31/31 [==============================] - 371s 12s/step - loss: 0.0063 - accuracy: 1.0000 - val_loss: 0.0025 - val_accuracy: 1.0000\n",
      "Epoch 15/20\n",
      "31/31 [==============================] - 373s 12s/step - loss: 0.0039 - accuracy: 1.0000 - val_loss: 0.0024 - val_accuracy: 1.0000\n",
      "Epoch 16/20\n",
      "31/31 [==============================] - 340s 11s/step - loss: 0.0038 - accuracy: 1.0000 - val_loss: 0.0018 - val_accuracy: 1.0000\n",
      "Epoch 17/20\n",
      "31/31 [==============================] - 407s 13s/step - loss: 0.0049 - accuracy: 1.0000 - val_loss: 0.0024 - val_accuracy: 1.0000\n",
      "Epoch 18/20\n",
      "31/31 [==============================] - 386s 13s/step - loss: 0.0031 - accuracy: 1.0000 - val_loss: 0.0027 - val_accuracy: 1.0000\n",
      "Epoch 19/20\n",
      "31/31 [==============================] - 362s 12s/step - loss: 0.0033 - accuracy: 1.0000 - val_loss: 0.0014 - val_accuracy: 1.0000\n",
      "Epoch 20/20\n",
      "31/31 [==============================] - 364s 12s/step - loss: 0.0027 - accuracy: 1.0000 - val_loss: 0.0015 - val_accuracy: 1.0000\n"
     ]
    }
   ],
   "source": [
    "# fit the model\n",
    "# Run the cell. It will take some time to execute\n",
    "r = model.fit_generator(\n",
    "  training_set,\n",
    "  validation_data=test_set,\n",
    "  epochs=20,\n",
    "  steps_per_epoch=len(training_set),\n",
    "  validation_steps=len(test_set)\n",
    ")"
   ]
  },
  {
   "cell_type": "code",
   "execution_count": 18,
   "metadata": {},
   "outputs": [
    {
     "data": {
      "image/png": "[encoded data removed]",
      "text/plain": [
       "<Figure size 432x288 with 1 Axes>"
      ]
     },
     "metadata": {
      "needs_background": "light"
     },
     "output_type": "display_data"
    },
    {
     "data": {
      "image/png": "[encoded data removed]",
      "text/plain": [
       "<Figure size 432x288 with 1 Axes>"
      ]
     },
     "metadata": {
      "needs_background": "light"
     },
     "output_type": "display_data"
    },
    {
     "data": {
      "text/plain": [
       "<Figure size 432x288 with 0 Axes>"
      ]
     },
     "metadata": {},
     "output_type": "display_data"
    }
   ],
   "source": [
    "# plot the loss\n",
    "plt.plot(r.history['loss'], label='train loss')\n",
    "plt.plot(r.history['val_loss'], label='val loss')\n",
    "plt.legend()\n",
    "plt.show()\n",
    "plt.savefig('LossVal_loss')\n",
    "\n",
    "# plot the accuracy\n",
    "plt.plot(r.history['accuracy'], label='train acc')\n",
    "plt.plot(r.history['val_accuracy'], label='val acc')\n",
    "plt.legend()\n",
    "plt.show()\n",
    "plt.savefig('AccVal_acc')"
   ]
  },
  {
   "cell_type": "markdown",
   "metadata": {},
   "source": [
    "#### 2. ResNet50:"
   ]
  },
  {
   "cell_type": "code",
   "execution_count": 16,
   "metadata": {},
   "outputs": [
    {
     "name": "stdout",
     "output_type": "stream",
     "text": [
      "Found 620 images belonging to 3 classes.\n",
      "Found 99 images belonging to 3 classes.\n"
     ]
    }
   ],
   "source": [
    "# Adding data-augmentation parameters to ImageDataGenerator\n",
    "\n",
    "train_res = ImageDataGenerator(rescale = 1./255., rotation_range = 40, width_shift_range = 0.2, \n",
    "                               height_shift_range = 0.2, shear_range = 0.2, zoom_range = 0.2, \n",
    "                               horizontal_flip = True)\n",
    "\n",
    "test_res = ImageDataGenerator(rescale = 1.0/255.)\n",
    "\n",
    "train_generator = train_res.flow_from_directory('E:/Flip Robo/Project - 8 - Image Scraping and Classification Project/Images data/train',\n",
    "                                                batch_size = 20, class_mode = 'categorical', target_size = (224, 224))\n",
    "\n",
    "validation_generator = test_res.flow_from_directory('E:/Flip Robo/Project - 8 - Image Scraping and Classification Project/Images data/test', \n",
    "                                                    batch_size = 20, class_mode = 'categorical', target_size = (224, 224))"
   ]
  },
  {
   "cell_type": "code",
   "execution_count": 17,
   "metadata": {},
   "outputs": [],
   "source": [
    "# Importing the base model\n",
    "from tensorflow.keras.applications import ResNet50\n",
    "base_model = ResNet50(input_shape=(224, 224,3), include_top=False, weights=\"imagenet\")"
   ]
  },
  {
   "cell_type": "code",
   "execution_count": 18,
   "metadata": {},
   "outputs": [],
   "source": [
    "#We're using the basic ResNet model, so we will keep the layers frozen and only modify the last layer\n",
    "for layer in base_model.layers:\n",
    "    layer.trainable = False"
   ]
  },
  {
   "cell_type": "code",
   "execution_count": 19,
   "metadata": {},
   "outputs": [],
   "source": [
    "#Build and Compile the Model\n",
    "\n",
    "from tensorflow.keras.applications import ResNet50\n",
    "from tensorflow.python.keras.models import Sequential\n",
    "from tensorflow.python.keras.layers import Dense, Flatten, GlobalAveragePooling2D\n",
    "\n",
    "base_model = Sequential()\n",
    "base_model.add(ResNet50(include_top=False, weights='imagenet', pooling='max'))\n",
    "base_model.add(Dense(3, activation='sigmoid'))"
   ]
  },
  {
   "cell_type": "code",
   "execution_count": 20,
   "metadata": {},
   "outputs": [],
   "source": [
    "# tell the model what cost and optimization method to use\n",
    "\n",
    "base_model.compile(optimizer = 'SGD', loss = 'categorical_crossentropy', metrics = ['accuracy'])"
   ]
  },
  {
   "cell_type": "code",
   "execution_count": 46,
   "metadata": {},
   "outputs": [
    {
     "name": "stderr",
     "output_type": "stream",
     "text": [
      "C:\\Users\\Ajitesh\\anaconda3\\lib\\site-packages\\tensorflow\\python\\keras\\engine\\training.py:1969: UserWarning: `Model.fit_generator` is deprecated and will be removed in a future version. Please use `Model.fit`, which supports generators.\n",
      "  warnings.warn('`Model.fit_generator` is deprecated and '\n"
     ]
    },
    {
     "name": "stdout",
     "output_type": "stream",
     "text": [
      "Epoch 1/10\n",
      "31/31 [==============================] - 559s 17s/step - loss: 0.3902 - accuracy: 0.8581 - val_loss: 1.5974 - val_accuracy: 0.3333\n",
      "Epoch 2/10\n",
      "31/31 [==============================] - 529s 17s/step - loss: 1.7576 - accuracy: 0.7645 - val_loss: 4.5000 - val_accuracy: 0.3636\n",
      "Epoch 3/10\n",
      "31/31 [==============================] - 544s 18s/step - loss: 2.5507 - accuracy: 0.7226 - val_loss: 4.3851 - val_accuracy: 0.4141\n",
      "Epoch 4/10\n",
      "31/31 [==============================] - 517s 17s/step - loss: 1.0502 - accuracy: 0.8032 - val_loss: 1.9233 - val_accuracy: 0.4242\n",
      "Epoch 5/10\n",
      "31/31 [==============================] - 526s 17s/step - loss: 0.7828 - accuracy: 0.8306 - val_loss: 2.5447 - val_accuracy: 0.4141\n",
      "Epoch 6/10\n",
      "31/31 [==============================] - 570s 18s/step - loss: 0.4965 - accuracy: 0.8371 - val_loss: 1.2224 - val_accuracy: 0.4040\n",
      "Epoch 7/10\n",
      "31/31 [==============================] - 533s 17s/step - loss: 0.3563 - accuracy: 0.8645 - val_loss: 1.1480 - val_accuracy: 0.4747\n",
      "Epoch 8/10\n",
      "31/31 [==============================] - 536s 17s/step - loss: 0.5086 - accuracy: 0.8548 - val_loss: 0.9436 - val_accuracy: 0.5859\n",
      "Epoch 9/10\n",
      "31/31 [==============================] - 540s 17s/step - loss: 0.3078 - accuracy: 0.8645 - val_loss: 2.0325 - val_accuracy: 0.4141\n",
      "Epoch 10/10\n",
      "31/31 [==============================] - 576s 19s/step - loss: 0.3224 - accuracy: 0.9065 - val_loss: 2.0068 - val_accuracy: 0.3939\n"
     ]
    }
   ],
   "source": [
    "#Fitting the model\n",
    "resnet_history = base_model.fit_generator(\n",
    "  train_generator,\n",
    "  validation_data=validation_generator,\n",
    "  epochs=10,\n",
    "  steps_per_epoch=len(train_generator),\n",
    "  validation_steps=len(validation_generator)\n",
    ")"
   ]
  },
  {
   "cell_type": "markdown",
   "metadata": {},
   "source": [
    "#### 3. Inception:"
   ]
  },
  {
   "cell_type": "code",
   "execution_count": 25,
   "metadata": {},
   "outputs": [],
   "source": [
    "# Add our data-augmentation parameters to ImageDataGenerator\n",
    "\n",
    "train_datagen = ImageDataGenerator(rescale = 1./255., rotation_range = 40, width_shift_range = 0.2, \n",
    "                                   height_shift_range = 0.2, shear_range = 0.2, zoom_range = 0.2, horizontal_flip = True)\n",
    "\n",
    "test_datagen = ImageDataGenerator(rescale = 1.0/255.)"
   ]
  },
  {
   "cell_type": "code",
   "execution_count": 36,
   "metadata": {},
   "outputs": [
    {
     "name": "stdout",
     "output_type": "stream",
     "text": [
      "Found 620 images belonging to 3 classes.\n",
      "Found 99 images belonging to 3 classes.\n"
     ]
    }
   ],
   "source": [
    "# Creating train and test set\n",
    "\n",
    "train_inception = train_datagen.flow_from_directory('E:/Flip Robo/Project - 8 - Image Scraping and Classification Project/Images data/train', \n",
    "                                               batch_size = 20, class_mode = 'categorical', target_size = (150, 150))\n",
    "\n",
    "test_inception = test_datagen.flow_from_directory('E:/Flip Robo/Project - 8 - Image Scraping and Classification Project/Images data/test', \n",
    "                                             batch_size = 20, class_mode = 'categorical', target_size = (150, 150))"
   ]
  },
  {
   "cell_type": "code",
   "execution_count": 37,
   "metadata": {},
   "outputs": [
    {
     "name": "stdout",
     "output_type": "stream",
     "text": [
      "Downloading data from https://storage.googleapis.com/tensorflow/keras-applications/inception_v3/inception_v3_weights_tf_dim_ordering_tf_kernels_notop.h5\n",
      "87916544/87910968 [==============================] - 34s 0us/step\n",
      "87924736/87910968 [==============================] - 34s 0us/step\n"
     ]
    }
   ],
   "source": [
    "#loading the base model\n",
    "from tensorflow.keras.applications.inception_v3 import InceptionV3\n",
    "inception_model = InceptionV3(input_shape = (150, 150, 3), include_top = False, weights = 'imagenet')"
   ]
  },
  {
   "cell_type": "code",
   "execution_count": 38,
   "metadata": {},
   "outputs": [],
   "source": [
    "#freeze the layers:\n",
    "for layer in inception_model.layers:\n",
    "    layer.trainable = False"
   ]
  },
  {
   "cell_type": "code",
   "execution_count": 42,
   "metadata": {},
   "outputs": [
    {
     "name": "stderr",
     "output_type": "stream",
     "text": [
      "C:\\Users\\Ajitesh\\anaconda3\\lib\\site-packages\\keras\\optimizer_v2\\optimizer_v2.py:355: UserWarning: The `lr` argument is deprecated, use `learning_rate` instead.\n",
      "  warnings.warn(\n"
     ]
    }
   ],
   "source": [
    "from tensorflow.keras.optimizers import RMSprop\n",
    "from tensorflow.keras import layers\n",
    "\n",
    "x = layers.Flatten()(inception_model.output)\n",
    "x = layers.Dense(1024, activation='relu')(x)\n",
    "x = layers.Dropout(0.2)(x)\n",
    "\n",
    "# Add a final sigmoid layer with 3 node for classification output\n",
    "x = layers.Dense(3, activation='sigmoid')(x)\n",
    "\n",
    "model = tf.keras.models.Model(inception_model.input, x)\n",
    "\n",
    "model.compile(optimizer = RMSprop(lr=0.0001), loss = 'categorical_crossentropy', metrics = ['accuracy'])"
   ]
  },
  {
   "cell_type": "code",
   "execution_count": 45,
   "metadata": {},
   "outputs": [
    {
     "name": "stderr",
     "output_type": "stream",
     "text": [
      "C:\\Users\\Ajitesh\\anaconda3\\lib\\site-packages\\keras\\engine\\training.py:1972: UserWarning: `Model.fit_generator` is deprecated and will be removed in a future version. Please use `Model.fit`, which supports generators.\n",
      "  warnings.warn('`Model.fit_generator` is deprecated and '\n"
     ]
    },
    {
     "name": "stdout",
     "output_type": "stream",
     "text": [
      "Epoch 1/10\n",
      "31/31 [==============================] - 47s 2s/step - loss: 0.9882 - accuracy: 0.8339 - val_loss: 0.4182 - val_accuracy: 0.8687\n",
      "Epoch 2/10\n",
      "31/31 [==============================] - 43s 1s/step - loss: 0.7498 - accuracy: 0.8468 - val_loss: 1.2689 - val_accuracy: 0.7172\n",
      "Epoch 3/10\n",
      "31/31 [==============================] - 42s 1s/step - loss: 0.4139 - accuracy: 0.8887 - val_loss: 1.3001 - val_accuracy: 0.8182\n",
      "Epoch 4/10\n",
      "31/31 [==============================] - 38s 1s/step - loss: 0.4984 - accuracy: 0.8839 - val_loss: 0.5975 - val_accuracy: 0.8687\n",
      "Epoch 5/10\n",
      "31/31 [==============================] - 37s 1s/step - loss: 0.5348 - accuracy: 0.8694 - val_loss: 0.4899 - val_accuracy: 0.8990\n",
      "Epoch 6/10\n",
      "31/31 [==============================] - 37s 1s/step - loss: 0.4820 - accuracy: 0.8839 - val_loss: 0.5641 - val_accuracy: 0.8889\n",
      "Epoch 7/10\n",
      "31/31 [==============================] - 37s 1s/step - loss: 0.4102 - accuracy: 0.8887 - val_loss: 0.3534 - val_accuracy: 0.9394\n",
      "Epoch 8/10\n",
      "31/31 [==============================] - 45s 1s/step - loss: 0.4278 - accuracy: 0.8742 - val_loss: 0.6487 - val_accuracy: 0.8687\n",
      "Epoch 9/10\n",
      "31/31 [==============================] - 39s 1s/step - loss: 0.3140 - accuracy: 0.9290 - val_loss: 0.8149 - val_accuracy: 0.8586\n",
      "Epoch 10/10\n",
      "31/31 [==============================] - 56s 2s/step - loss: 0.3391 - accuracy: 0.9048 - val_loss: 1.2667 - val_accuracy: 0.7475\n"
     ]
    }
   ],
   "source": [
    "#fitting the model\n",
    "inc_history = model.fit_generator(train_inception, validation_data = test_inception, \n",
    "                                  steps_per_epoch = len(train_inception), epochs = 10)"
   ]
  },
  {
   "cell_type": "code",
   "execution_count": 18,
   "metadata": {},
   "outputs": [],
   "source": [
    "# Our best performing model is VGG16.\n",
    "# save it as a h5 file\n",
    "from tensorflow.keras.models import load_model\n",
    "\n",
    "model.save('image_classification_proect.h5')"
   ]
  },
  {
   "cell_type": "code",
   "execution_count": 20,
   "metadata": {},
   "outputs": [
    {
     "data": {
      "text/plain": [
       "array([[0.03007292, 0.9609358 , 0.0089913 ],\n",
       "       [0.01240505, 0.982323  , 0.00527192],\n",
       "       [0.6311642 , 0.03470546, 0.33413035],\n",
       "       [0.00175867, 0.9961922 , 0.00204908],\n",
       "       [0.03418627, 0.9572877 , 0.00852598],\n",
       "       [0.59479517, 0.06998523, 0.33521956],\n",
       "       [0.0423687 , 0.9371934 , 0.02043784],\n",
       "       [0.11555667, 0.0157666 , 0.8686767 ],\n",
       "       [0.07283568, 0.849847  , 0.07731727],\n",
       "       [0.05231429, 0.9297153 , 0.01797039],\n",
       "       [0.05851891, 0.60463893, 0.3368422 ],\n",
       "       [0.00945696, 0.9870445 , 0.00349857],\n",
       "       [0.22470215, 0.01056509, 0.7647328 ],\n",
       "       [0.46168265, 0.0173398 , 0.52097756],\n",
       "       [0.13389763, 0.7785252 , 0.08757719],\n",
       "       [0.14115852, 0.01000534, 0.8488361 ],\n",
       "       [0.36897057, 0.17321603, 0.45781338],\n",
       "       [0.02456498, 0.9666944 , 0.00874048],\n",
       "       [0.51226026, 0.03790062, 0.44983914],\n",
       "       [0.16313241, 0.08668748, 0.75018007],\n",
       "       [0.26783755, 0.0513644 , 0.68079805],\n",
       "       [0.41270176, 0.1706441 , 0.4166541 ],\n",
       "       [0.16976324, 0.02482255, 0.8054142 ],\n",
       "       [0.71732765, 0.00408509, 0.27858728],\n",
       "       [0.2930393 , 0.02811689, 0.67884386],\n",
       "       [0.01373771, 0.9793306 , 0.00693173],\n",
       "       [0.01240505, 0.982323  , 0.00527192],\n",
       "       [0.00286897, 0.9953819 , 0.0017492 ],\n",
       "       [0.48502   , 0.0232485 , 0.49173144],\n",
       "       [0.9218205 , 0.00666136, 0.07151811],\n",
       "       [0.25022182, 0.00861408, 0.7411641 ],\n",
       "       [0.00628439, 0.9867621 , 0.00695343],\n",
       "       [0.446651  , 0.05070093, 0.5026481 ],\n",
       "       [0.00402719, 0.99183923, 0.00413364],\n",
       "       [0.14379409, 0.02632061, 0.82988536],\n",
       "       [0.01074553, 0.9832486 , 0.00600579],\n",
       "       [0.0040841 , 0.9943863 , 0.00152968],\n",
       "       [0.24192166, 0.0161796 , 0.7418987 ],\n",
       "       [0.2584375 , 0.14764403, 0.5939185 ],\n",
       "       [0.8629302 , 0.00587355, 0.13119635],\n",
       "       [0.34756556, 0.37048784, 0.28194666],\n",
       "       [0.00945696, 0.9870445 , 0.00349857],\n",
       "       [0.5552347 , 0.01437555, 0.4303898 ],\n",
       "       [0.16313241, 0.08668748, 0.75018007],\n",
       "       [0.5744373 , 0.02948297, 0.39607966],\n",
       "       [0.87460214, 0.0123738 , 0.11302412],\n",
       "       [0.90657264, 0.00722779, 0.08619966],\n",
       "       [0.02929846, 0.96031135, 0.01039018],\n",
       "       [0.25818658, 0.05465034, 0.6871631 ],\n",
       "       [0.22470215, 0.01056509, 0.7647328 ],\n",
       "       [0.9218205 , 0.00666136, 0.07151811],\n",
       "       [0.26783755, 0.0513644 , 0.68079805],\n",
       "       [0.00945696, 0.9870445 , 0.00349857],\n",
       "       [0.0518679 , 0.82695025, 0.12118181],\n",
       "       [0.04226099, 0.9256783 , 0.03206073],\n",
       "       [0.06937122, 0.9068632 , 0.02376562],\n",
       "       [0.2930393 , 0.02811689, 0.67884386],\n",
       "       [0.8550215 , 0.00523716, 0.1397413 ],\n",
       "       [0.06937122, 0.9068632 , 0.02376562],\n",
       "       [0.5624188 , 0.1196067 , 0.3179745 ],\n",
       "       [0.0423687 , 0.9371934 , 0.02043784],\n",
       "       [0.00998522, 0.97982544, 0.01018931],\n",
       "       [0.53965396, 0.10348638, 0.35685962],\n",
       "       [0.14085765, 0.04020736, 0.818935  ],\n",
       "       [0.9090735 , 0.01742279, 0.07350385],\n",
       "       [0.00577414, 0.98960376, 0.00462208],\n",
       "       [0.96204585, 0.01018208, 0.02777202],\n",
       "       [0.44305655, 0.02042045, 0.536523  ],\n",
       "       [0.16154507, 0.02161949, 0.8168354 ],\n",
       "       [0.0101391 , 0.982323  , 0.00753795],\n",
       "       [0.5234005 , 0.09455998, 0.3820395 ],\n",
       "       [0.03183923, 0.9486476 , 0.01951315],\n",
       "       [0.44397762, 0.01703136, 0.538991  ],\n",
       "       [0.87083155, 0.00961051, 0.11955795],\n",
       "       [0.05851891, 0.60463893, 0.3368422 ],\n",
       "       [0.32366973, 0.03888986, 0.6374404 ],\n",
       "       [0.5234005 , 0.09455998, 0.3820395 ],\n",
       "       [0.3047519 , 0.07828575, 0.6169624 ],\n",
       "       [0.2204375 , 0.10884151, 0.670721  ],\n",
       "       [0.35301697, 0.00584748, 0.6411355 ],\n",
       "       [0.2586576 , 0.05564778, 0.6856946 ],\n",
       "       [0.27918178, 0.1527641 , 0.56805414],\n",
       "       [0.1297337 , 0.01456692, 0.85569936],\n",
       "       [0.34756556, 0.37048784, 0.28194666],\n",
       "       [0.18317255, 0.02280594, 0.79402155],\n",
       "       [0.03060141, 0.9578547 , 0.01154392],\n",
       "       [0.36897057, 0.17321603, 0.45781338],\n",
       "       [0.5917819 , 0.03051118, 0.37770692],\n",
       "       [0.27918178, 0.1527641 , 0.56805414],\n",
       "       [0.5088525 , 0.06345503, 0.42769247],\n",
       "       [0.87083155, 0.00961051, 0.11955795],\n",
       "       [0.92373645, 0.00136793, 0.07489561],\n",
       "       [0.86438495, 0.01622109, 0.11939392],\n",
       "       [0.00396955, 0.99270016, 0.00333035],\n",
       "       [0.8569471 , 0.01587866, 0.1271743 ],\n",
       "       [0.13389763, 0.7785252 , 0.08757719],\n",
       "       [0.9060671 , 0.01060955, 0.08332335],\n",
       "       [0.9060671 , 0.01060955, 0.08332335],\n",
       "       [0.06937125, 0.9068631 , 0.02376563]], dtype=float32)"
      ]
     },
     "execution_count": 20,
     "metadata": {},
     "output_type": "execute_result"
    }
   ],
   "source": [
    "y_pred = model.predict(test_set)\n",
    "\n",
    "y_pred"
   ]
  },
  {
   "cell_type": "code",
   "execution_count": 21,
   "metadata": {},
   "outputs": [
    {
     "data": {
      "text/plain": [
       "array([1, 1, 0, 1, 1, 0, 1, 2, 1, 1, 1, 1, 2, 2, 1, 2, 2, 1, 0, 2, 2, 2,\n",
       "       2, 0, 2, 1, 1, 1, 2, 0, 2, 1, 2, 1, 2, 1, 1, 2, 2, 0, 1, 1, 0, 2,\n",
       "       0, 0, 0, 1, 2, 2, 0, 2, 1, 1, 1, 1, 2, 0, 1, 0, 1, 1, 0, 2, 0, 1,\n",
       "       0, 2, 2, 1, 0, 1, 2, 0, 1, 2, 0, 2, 2, 2, 2, 2, 2, 1, 2, 1, 2, 0,\n",
       "       2, 0, 0, 0, 0, 1, 0, 1, 0, 0, 1], dtype=int64)"
      ]
     },
     "execution_count": 21,
     "metadata": {},
     "output_type": "execute_result"
    }
   ],
   "source": [
    "y_pred = np.argmax(y_pred, axis=1)\n",
    "\n",
    "y_pred"
   ]
  },
  {
   "cell_type": "code",
   "execution_count": null,
   "metadata": {},
   "outputs": [],
   "source": []
  }
 ],
 "metadata": {
  "kernelspec": {
   "display_name": "Python 3",
   "language": "python",
   "name": "python3"
  },
  "language_info": {
   "codemirror_mode": {
    "name": "ipython",
    "version": 3
   },
   "file_extension": ".py",
   "mimetype": "text/x-python",
   "name": "python",
   "nbconvert_exporter": "python",
   "pygments_lexer": "ipython3",
   "version": "3.8.5"
  }
 },
 "nbformat": 4,
 "nbformat_minor": 4
}
